{
 "cells": [
  {
   "cell_type": "code",
   "execution_count": 18,
   "id": "e11c5995",
   "metadata": {},
   "outputs": [
    {
     "data": {
      "text/plain": [
       "35"
      ]
     },
     "execution_count": 18,
     "metadata": {},
     "output_type": "execute_result"
    }
   ],
   "source": [
    "# Question 1:\n",
    "def Max(a, b, c):\n",
    "    biggest_number = a\n",
    "    if b > biggest_number:\n",
    "        biggest_number = b\n",
    "    if c > biggest_number:\n",
    "        biggest_number = c\n",
    "    return biggest_number\n",
    "Max(20, 35, 19)"
   ]
  },
  {
   "cell_type": "code",
   "execution_count": 19,
   "id": "20161524",
   "metadata": {},
   "outputs": [
    {
     "data": {
      "text/plain": [
       "(50, 30)"
      ]
     },
     "execution_count": 19,
     "metadata": {},
     "output_type": "execute_result"
    }
   ],
   "source": [
    "# Question 2:\n",
    "def calculation(a, b):\n",
    "    return (a + b), (a - b)\n",
    "calculation(40, 10)"
   ]
  },
  {
   "cell_type": "code",
   "execution_count": 16,
   "id": "b21974c2",
   "metadata": {
    "scrolled": true
   },
   "outputs": [
    {
     "name": "stdout",
     "output_type": "stream",
     "text": [
      "The sum of the elements whose position is an even number is  11\n",
      "The result of multiplication of the elements whose position is an odd number is  105\n"
     ]
    }
   ],
   "source": [
    "# Question 3:\n",
    "L = [1, 3, 4, 5, 6, 7]\n",
    "List_even_numbers  = []\n",
    "List_odd_numbers = []\n",
    "def the_sum(List):\n",
    "    result1 = 0\n",
    "    for i in List :\n",
    "        result1 += i\n",
    "    return result1\n",
    "def multiplication (List):\n",
    "    result = 1\n",
    "    for i in List :\n",
    "        result *= i\n",
    "    return result\n",
    "i = 0\n",
    "while i < len(L):\n",
    "    if i % 2 == 0:\n",
    "        List_even_numbers.append(L[i])\n",
    "    else:\n",
    "        List_odd_numbers.append(L[i])\n",
    "    i += 1\n",
    "print(\"The sum of the elements whose position is an even number is \", the_sum(List_even_numbers))\n",
    "print(\"The result of multiplication of the elements whose position is an odd number is \", multiplication(List_odd_numbers))"
   ]
  },
  {
   "cell_type": "code",
   "execution_count": 20,
   "id": "68410460",
   "metadata": {},
   "outputs": [
    {
     "name": "stdout",
     "output_type": "stream",
     "text": [
      "black-green-red-white-yellow\n"
     ]
    }
   ],
   "source": [
    "# Question 4:\n",
    "Input = \"green-red-yellow-black-white\"\n",
    "def sort_str (string):\n",
    "    result = \"\"\n",
    "    List = string.split(\"-\")\n",
    "    List.sort()\n",
    "    for item in List:\n",
    "        result += item + \"-\"\n",
    "    return (result[:-1])\n",
    "print(sort_str(Input))"
   ]
  },
  {
   "cell_type": "code",
   "execution_count": 23,
   "id": "973d3b36",
   "metadata": {},
   "outputs": [
    {
     "name": "stdout",
     "output_type": "stream",
     "text": [
      "[18, 22, 24]\n"
     ]
    }
   ],
   "source": [
    "# Question 5 (Bonus):\n",
    "import math\n",
    "Input = [100,150,180]\n",
    "x = lambda D : round(math.sqrt((2*50*D)/30))\n",
    "result = list(map(x , Input))\n",
    "print (result)"
   ]
  }
 ],
 "metadata": {
  "kernelspec": {
   "display_name": "Python 3",
   "language": "python",
   "name": "python3"
  },
  "language_info": {
   "codemirror_mode": {
    "name": "ipython",
    "version": 3
   },
   "file_extension": ".py",
   "mimetype": "text/x-python",
   "name": "python",
   "nbconvert_exporter": "python",
   "pygments_lexer": "ipython3",
   "version": "3.8.8"
  }
 },
 "nbformat": 4,
 "nbformat_minor": 5
}
